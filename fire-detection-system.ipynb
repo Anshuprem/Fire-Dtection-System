{
 "cells": [
  {
   "cell_type": "code",
   "execution_count": 2,
   "metadata": {},
   "outputs": [
    {
     "name": "stdout",
     "output_type": "stream",
     "text": [
      "Warning: The file 'hsv-0.png' was not found. HSV reference image will not be displayed.\n"
     ]
    },
    {
     "ename": "KeyboardInterrupt",
     "evalue": "",
     "output_type": "error",
     "traceback": [
      "\u001b[1;31m---------------------------------------------------------------------------\u001b[0m",
      "\u001b[1;31mKeyboardInterrupt\u001b[0m                         Traceback (most recent call last)",
      "Cell \u001b[1;32mIn[2], line 49\u001b[0m\n\u001b[0;32m     47\u001b[0m \u001b[38;5;28;01mif\u001b[39;00m \u001b[38;5;129;01mnot\u001b[39;00m ret:\n\u001b[0;32m     48\u001b[0m     \u001b[38;5;28;01mbreak\u001b[39;00m\n\u001b[1;32m---> 49\u001b[0m processed_frame, mask \u001b[38;5;241m=\u001b[39m \u001b[43mdetect_fire\u001b[49m\u001b[43m(\u001b[49m\u001b[43mframe\u001b[49m\u001b[43m)\u001b[49m\n\u001b[0;32m     51\u001b[0m \u001b[38;5;66;03m# Resize HSV reference image\u001b[39;00m\n\u001b[0;32m     52\u001b[0m hsv_ref_resized \u001b[38;5;241m=\u001b[39m cv2\u001b[38;5;241m.\u001b[39mresize(hsv_reference, (\u001b[38;5;241m300\u001b[39m, \u001b[38;5;241m100\u001b[39m))\n",
      "Cell \u001b[1;32mIn[2], line 34\u001b[0m, in \u001b[0;36mdetect_fire\u001b[1;34m(frame)\u001b[0m\n\u001b[0;32m     31\u001b[0m mask \u001b[38;5;241m=\u001b[39m cv2\u001b[38;5;241m.\u001b[39mmorphologyEx(mask, cv2\u001b[38;5;241m.\u001b[39mMORPH_CLOSE, kernel)\n\u001b[0;32m     33\u001b[0m \u001b[38;5;66;03m# Find contours and filter based on size and shape\u001b[39;00m\n\u001b[1;32m---> 34\u001b[0m contours, _ \u001b[38;5;241m=\u001b[39m \u001b[43mcv2\u001b[49m\u001b[38;5;241;43m.\u001b[39;49m\u001b[43mfindContours\u001b[49m\u001b[43m(\u001b[49m\u001b[43mmask\u001b[49m\u001b[43m,\u001b[49m\u001b[43m \u001b[49m\u001b[43mcv2\u001b[49m\u001b[38;5;241;43m.\u001b[39;49m\u001b[43mRETR_EXTERNAL\u001b[49m\u001b[43m,\u001b[49m\u001b[43m \u001b[49m\u001b[43mcv2\u001b[49m\u001b[38;5;241;43m.\u001b[39;49m\u001b[43mCHAIN_APPROX_SIMPLE\u001b[49m\u001b[43m)\u001b[49m\n\u001b[0;32m     35\u001b[0m \u001b[38;5;28;01mfor\u001b[39;00m contour \u001b[38;5;129;01min\u001b[39;00m contours:\n\u001b[0;32m     36\u001b[0m     \u001b[38;5;28;01mif\u001b[39;00m cv2\u001b[38;5;241m.\u001b[39mcontourArea(contour) \u001b[38;5;241m>\u001b[39m \u001b[38;5;241m1000\u001b[39m:  \u001b[38;5;66;03m# Increased area threshold for better accuracy\u001b[39;00m\n",
      "\u001b[1;31mKeyboardInterrupt\u001b[0m: "
     ]
    }
   ],
   "source": [
    "import cv2\n",
    "import numpy as np\n",
    "\n",
    "# Load the HSV reference image\n",
    "hsv_reference = cv2.imread(\"hsv-0.png\")\n",
    "if hsv_reference is None:\n",
    "    print(\"Warning: The file 'hsv-0.png' was not found. HSV reference image will not be displayed.\")\n",
    "    hsv_reference = np.zeros((100, 300, 3), dtype=np.uint8)  # Create a blank image as a placeholder\n",
    "\n",
    "def detect_fire(frame):\n",
    "    hsv = cv2.cvtColor(frame, cv2.COLOR_BGR2HSV)\n",
    "    \n",
    "    # Adjusted HSV range for fire-like colors (red, orange, yellow)\n",
    "    lower_bound1 = np.array([0, 50, 50], dtype=np.uint8)   # Red hues\n",
    "    upper_bound1 = np.array([10, 255, 255], dtype=np.uint8)\n",
    "    lower_bound2 = np.array([160, 50, 50], dtype=np.uint8) # Red hues (wrap-around)\n",
    "    upper_bound2 = np.array([179, 255, 255], dtype=np.uint8)\n",
    "    lower_bound3 = np.array([18, 100, 100], dtype=np.uint8) # Orange-yellow hues\n",
    "    upper_bound3 = np.array([35, 255, 255], dtype=np.uint8)\n",
    "    \n",
    "    # Combine masks for red and orange-yellow hues\n",
    "    mask1 = cv2.inRange(hsv, lower_bound1, upper_bound1)\n",
    "    mask2 = cv2.inRange(hsv, lower_bound2, upper_bound2)\n",
    "    mask3 = cv2.inRange(hsv, lower_bound3, upper_bound3)\n",
    "    mask = cv2.bitwise_or(mask1, mask2)\n",
    "    mask = cv2.bitwise_or(mask, mask3)\n",
    "    \n",
    "    # Morphological operations to clean up the mask\n",
    "    kernel = np.ones((5, 5), np.uint8)\n",
    "    mask = cv2.morphologyEx(mask, cv2.MORPH_OPEN, kernel)\n",
    "    mask = cv2.morphologyEx(mask, cv2.MORPH_CLOSE, kernel)\n",
    "    \n",
    "    # Find contours and filter based on size and shape\n",
    "    contours, _ = cv2.findContours(mask, cv2.RETR_EXTERNAL, cv2.CHAIN_APPROX_SIMPLE)\n",
    "    for contour in contours:\n",
    "        if cv2.contourArea(contour) > 1000:  # Increased area threshold for better accuracy\n",
    "            x, y, w, h = cv2.boundingRect(contour)\n",
    "            aspect_ratio = float(w) / h\n",
    "            if 0.5 < aspect_ratio < 2.0:  # Filter based on aspect ratio to avoid false positives\n",
    "                cv2.rectangle(frame, (x, y), (x + w, y + h), (0, 0, 255), 2)\n",
    "                cv2.putText(frame, \"Fire Detected!\", (x, y - 10), cv2.FONT_HERSHEY_SIMPLEX, 0.6, (0, 0, 255), 2)\n",
    "    return frame, mask\n",
    "\n",
    "cap = cv2.VideoCapture(0)\n",
    "while True:\n",
    "    ret, frame = cap.read()\n",
    "    if not ret:\n",
    "        break\n",
    "    processed_frame, mask = detect_fire(frame)\n",
    "    \n",
    "    # Resize HSV reference image\n",
    "    hsv_ref_resized = cv2.resize(hsv_reference, (300, 100))\n",
    "    \n",
    "    # Display results\n",
    "    cv2.imshow(\"Fire Detection\", processed_frame)\n",
    "    cv2.imshow(\"Mask\", mask)\n",
    "    cv2.imshow(\"HSV Reference\", hsv_ref_resized)\n",
    "    \n",
    "    if cv2.waitKey(1) & 0xFF == ord('q'):\n",
    "        break\n",
    "cap.release()\n",
    "cv2.destroyAllWindows()\n"
   ]
  }
 ],
 "metadata": {
  "kernelspec": {
   "display_name": "Python 3",
   "language": "python",
   "name": "python3"
  },
  "language_info": {
   "codemirror_mode": {
    "name": "ipython",
    "version": 3
   },
   "file_extension": ".py",
   "mimetype": "text/x-python",
   "name": "python",
   "nbconvert_exporter": "python",
   "pygments_lexer": "ipython3",
   "version": "3.13.1"
  }
 },
 "nbformat": 4,
 "nbformat_minor": 2
}
